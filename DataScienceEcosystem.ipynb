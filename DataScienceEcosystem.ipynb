{
 "cells": [
  {
   "cell_type": "markdown",
   "id": "f206b6e4-33ed-4ec9-bfeb-c171589230ed",
   "metadata": {},
   "source": [
    "Data Science tools and Ecosystems\n",
    "================================="
   ]
  },
  {
   "cell_type": "markdown",
   "id": "5f298c56-23f8-4627-a543-ce51a0521bd0",
   "metadata": {},
   "source": [
    "In this notebook, Data Science Tools and Ecosystems are summarized. "
   ]
  },
  {
   "cell_type": "markdown",
   "id": "b1e2e6e8-cfa8-4ca5-83de-5d5bb568b761",
   "metadata": {},
   "source": [
    "**Objectives**\n",
    "- Popular Languages\n",
    "- Data Science tools\n",
    "- Evaluating Arithmetic Expressions in Python"
   ]
  },
  {
   "cell_type": "markdown",
   "id": "145250f9-0df1-4c84-a3c1-1a6601261f62",
   "metadata": {},
   "source": [
    "Some of the popular languages that Data Scientist use are: \n",
    "1. R\n",
    "2. Python\n",
    "3. Java\n"
   ]
  },
  {
   "cell_type": "markdown",
   "id": "b951ca82-0ebf-4617-a6b7-74e4c33db5e1",
   "metadata": {},
   "source": [
    "Some of the commonly used libraries used by Data Scientist include: \n",
    "    1. Pandas\n",
    "    2. Numpy\n",
    "    3. Keras"
   ]
  },
  {
   "cell_type": "markdown",
   "id": "6abada8d-1fd0-4af9-8b8c-5f675330651d",
   "metadata": {},
   "source": [
    "| Data Science Tools | \n",
    "|--------------------|\n",
    "|Jupyter Notebooks   |\n",
    "|Apache              |\n",
    "|Python              |"
   ]
  },
  {
   "cell_type": "markdown",
   "id": "6552567d-ff94-4b31-b331-93bade8a1338",
   "metadata": {},
   "source": [
    "### Below are a few examples of evaluating arithmetic expressions in Python. "
   ]
  },
  {
   "cell_type": "code",
   "execution_count": 1,
   "id": "496b719a-1215-4e5b-b232-6a61ca4e2429",
   "metadata": {
    "tags": []
   },
   "outputs": [
    {
     "data": {
      "text/plain": [
       "17"
      ]
     },
     "execution_count": 1,
     "metadata": {},
     "output_type": "execute_result"
    }
   ],
   "source": [
    "# This is a simple arithmetic expression to multiply then add integers.\n",
    "(3 * 4) + 5\n"
   ]
  },
  {
   "cell_type": "code",
   "execution_count": 2,
   "id": "6484d1b9-748f-42f7-90b3-b1406937f560",
   "metadata": {
    "tags": []
   },
   "outputs": [
    {
     "data": {
      "text/plain": [
       "3.3333333333333335"
      ]
     },
     "execution_count": 2,
     "metadata": {},
     "output_type": "execute_result"
    }
   ],
   "source": [
    "# This will convert 200 minutes to hours by diving by 60. \n",
    "200 / 60\n"
   ]
  },
  {
   "cell_type": "markdown",
   "id": "7c7527ca-2022-4b5a-b408-47642a8780ba",
   "metadata": {},
   "source": [
    "## Author\n",
    "\n",
    "Lamar Harvey"
   ]
  },
  {
   "cell_type": "code",
   "execution_count": null,
   "id": "109a8696-9850-4149-8ef8-b47537fec59c",
   "metadata": {},
   "outputs": [],
   "source": []
  }
 ],
 "metadata": {
  "kernelspec": {
   "display_name": "Python",
   "language": "python",
   "name": "conda-env-python-py"
  },
  "language_info": {
   "codemirror_mode": {
    "name": "ipython",
    "version": 3
   },
   "file_extension": ".py",
   "mimetype": "text/x-python",
   "name": "python",
   "nbconvert_exporter": "python",
   "pygments_lexer": "ipython3",
   "version": "3.7.12"
  }
 },
 "nbformat": 4,
 "nbformat_minor": 5
}
